{
 "cells": [
  {
   "cell_type": "markdown",
   "metadata": {},
   "source": [
    "# Neural networks with PyTorch\n",
    "\n",
    "Deep learning networks tend to be massive with dozens or hundreds of layers, that's where the term \"deep\" comes from. You can build one of these deep networks using only weight matrices as we did in the previous notebook, but in general it's very cumbersome and difficult to implement. PyTorch has a nice module `nn` that provides a nice way to efficiently build large neural networks."
   ]
  },
  {
   "cell_type": "code",
   "execution_count": 1,
   "metadata": {},
   "outputs": [],
   "source": [
    "# Import necessary packages\n",
    "\n",
    "%matplotlib inline\n",
    "%config InlineBackend.figure_format = 'retina'\n",
    "\n",
    "import numpy as np\n",
    "import torch\n",
    "\n",
    "import helper\n",
    "\n",
    "import matplotlib.pyplot as plt"
   ]
  },
  {
   "cell_type": "markdown",
   "metadata": {},
   "source": [
    "\n",
    "Now we're going to build a larger network that can solve a (formerly) difficult problem, identifying text in an image. Here we'll use the MNIST dataset which consists of greyscale handwritten digits. Each image is 28x28 pixels, you can see a sample below\n",
    "\n",
    "<img src='assets/mnist.png'>\n",
    "\n",
    "Our goal is to build a neural network that can take one of these images and predict the digit in the image.\n",
    "\n",
    "First up, we need to get our dataset. This is provided through the `torchvision` package. The code below will download the MNIST dataset, then create training and test datasets for us. Don't worry too much about the details here, you'll learn more about this later."
   ]
  },
  {
   "cell_type": "code",
   "execution_count": 2,
   "metadata": {},
   "outputs": [
    {
     "name": "stdout",
     "output_type": "stream",
     "text": [
      "Downloading http://yann.lecun.com/exdb/mnist/train-images-idx3-ubyte.gz\n",
      "Downloading http://yann.lecun.com/exdb/mnist/train-labels-idx1-ubyte.gz\n",
      "Downloading http://yann.lecun.com/exdb/mnist/t10k-images-idx3-ubyte.gz\n",
      "Downloading http://yann.lecun.com/exdb/mnist/t10k-labels-idx1-ubyte.gz\n",
      "Processing...\n",
      "Done!\n"
     ]
    }
   ],
   "source": [
    "### Run this cell\n",
    "\n",
    "from torchvision import datasets, transforms\n",
    "\n",
    "# Define a transform to normalize the data\n",
    "transform = transforms.Compose([transforms.ToTensor(),\n",
    "                              transforms.Normalize((0.5,), (0.5,)),\n",
    "                              ])\n",
    "\n",
    "# Download and load the training data\n",
    "trainset = datasets.MNIST('MNIST_data/', download=True, train=True, transform=transform)\n",
    "trainloader = torch.utils.data.DataLoader(trainset, batch_size=64, shuffle=True)"
   ]
  },
  {
   "cell_type": "markdown",
   "metadata": {},
   "source": [
    "We have the training data loaded into `trainloader` and we make that an iterator with `iter(trainloader)`. Later, we'll use this to loop through the dataset for training, like\n",
    "\n",
    "```python\n",
    "for image, label in trainloader:\n",
    "    ## do things with images and labels\n",
    "```\n",
    "\n",
    "You'll notice I created the `trainloader` with a batch size of 64, and `shuffle=True`. The batch size is the number of images we get in one iteration from the data loader and pass through our network, often called a *batch*. And `shuffle=True` tells it to shuffle the dataset every time we start going through the data loader again. But here I'm just grabbing the first batch so we can check out the data. We can see below that `images` is just a tensor with size `(64, 1, 28, 28)`. So, 64 images per batch, 1 color channel, and 28x28 images."
   ]
  },
  {
   "cell_type": "code",
   "execution_count": 10,
   "metadata": {},
   "outputs": [
    {
     "name": "stdout",
     "output_type": "stream",
     "text": [
      "<class 'torch.Tensor'>\n",
      "torch.Size([64, 1, 28, 28])\n",
      "torch.Size([64])\n"
     ]
    }
   ],
   "source": [
    "dataiter = iter(trainloader)\n",
    "images, labels = dataiter.next()\n",
    "print(type(images))\n",
    "print(images.shape)\n",
    "print(labels.shape)"
   ]
  },
  {
   "cell_type": "markdown",
   "metadata": {},
   "source": [
    "This is what one of the images looks like. "
   ]
  },
  {
   "cell_type": "code",
   "execution_count": 4,
   "metadata": {},
   "outputs": [
    {
     "data": {
      "image/png": "[encoded data removed]",
      "text/plain": [
       "<Figure size 432x288 with 1 Axes>"
      ]
     },
     "metadata": {
      "image/png": {
       "height": 250,
       "width": 253
      },
      "needs_background": "light"
     },
     "output_type": "display_data"
    }
   ],
   "source": [
    "plt.imshow(images[1].numpy().squeeze(), cmap='Greys_r');"
   ]
  },
  {
   "cell_type": "markdown",
   "metadata": {},
   "source": [
    "First, let's try to build a simple network for this dataset using weight matrices and matrix multiplications. Then, we'll see how to do it using PyTorch's `nn` module which provides a much more convenient and powerful method for defining network architectures.\n",
    "\n",
    "The networks you've seen so far are called *fully-connected* or *dense* networks. Each unit in one layer is connected to each unit in the next layer. In fully-connected networks, the input to each layer must be a one-dimensional vector (which can be stacked into a 2D tensor as a batch of multiple examples). However, our images are 28x28 2D tensors, so we need to convert them into 1D vectors. Thinking about sizes, we need to convert the batch of images with shape `(64, 1, 28, 28)` to a have a shape of `(64, 784)`, 784 is 28 times 28. This is typically called *flattening*, we flattened the 2D images into 1D vectors.\n",
    "\n",
    "Previously you built a network with one output unit. Here we need 10 output units, one for each digit. We want our network to predict the digit shown in an image, so what we'll do is calculate probabilities that the image is of any one digit or class. This ends up being a discrete probability distribution over the classes (digits) that tells us the most likely class for the image. That means we need 10 output units for the 10 classes (digits). We'll see how to convert the network output into a probability distribution next.\n",
    "\n",
    "> **Exercise:** Flatten the batch of images `images`. Then build a multi-layer network with 784 input units, 256 hidden units, and 10 output units using random tensors for the weights and biases. For now, use a sigmoid activation for the hidden layer. Leave the output layer without an activation, we'll add one that gives us a probability distribution next."
   ]
  },
  {
   "cell_type": "code",
   "execution_count": 22,
   "metadata": {},
   "outputs": [
    {
     "name": "stdout",
     "output_type": "stream",
     "text": [
      "tensor([[ 14.1097, -11.1146,  17.9971,  -3.1658,  -7.1666,   6.1821, -11.5254,\n",
      "           0.2646,  -4.8070,  -0.1738],\n",
      "        [ 12.1609,  -4.1059,   1.5770,   7.5529, -11.9807,   2.8882,  -7.2331,\n",
      "           6.6440, -11.0808,   1.7024],\n",
      "        [ 11.8658,  -8.1507,  15.8951,   0.9866,  -9.4158,   6.9727, -11.4255,\n",
      "           8.2321,  -8.9817,   2.0187],\n",
      "        [ 12.5702,   1.6766,  15.9313,  -3.3929,  -5.0271,  -1.0822, -12.2246,\n",
      "           5.7849,  -9.9127,   1.9256],\n",
      "        [ 14.8252,   0.3509,   7.2907,  -0.8224,  -3.9611,   8.5863, -15.2365,\n",
      "          10.5462, -15.0948,  -1.1531],\n",
      "        [ 11.5037,   0.5033,  19.6670,  -7.3567, -14.3524,   6.0119, -15.5073,\n",
      "           2.3236, -11.7849,   0.3163],\n",
      "        [ 19.7756, -10.0539,  17.0036,  -9.7593, -10.8044,   6.1620,  -7.0201,\n",
      "          -3.2185,  -9.2205,  -0.7846],\n",
      "        [ 11.3333, -12.9992,  11.4421,   0.9919,  -7.7487,  18.8398,  -2.5859,\n",
      "          12.3327,  -8.1913,   8.9466],\n",
      "        [ 14.5108,  -7.4114,  18.5323,  -6.5409, -11.6204,   4.2183,  -8.8724,\n",
      "           7.5305, -10.4808,  -1.9851],\n",
      "        [  6.7477,  -6.5726,  12.2913,  -3.6231,  -7.7716,   3.4853,  -4.8384,\n",
      "           8.1207,  -6.3815,   8.9228],\n",
      "        [ 20.0698, -11.5276,  19.2483,  -3.5760,  -7.2201,  11.9043, -13.3825,\n",
      "           5.1744,  -9.3742,   0.5863],\n",
      "        [ 10.7566, -12.3283,  11.9528,  10.4372,  -1.6367,  10.3014,  -4.1220,\n",
      "           7.0758,   7.2319,   7.0272],\n",
      "        [ 21.3886,  -4.0624,  17.5815,   3.0458,  -3.0581,   1.0379,  -6.9184,\n",
      "          11.8930,   0.6190,   2.9296],\n",
      "        [ 16.2906,  -8.8662,  13.4342,   1.9708,  -5.6220,   4.6065,  -6.6538,\n",
      "           2.0882,  -9.0503,   4.9703],\n",
      "        [ 11.1978,  -2.2536,  16.4196,  -9.1709, -19.0948,  13.8943, -11.1197,\n",
      "          19.2286,  -7.7290,  -6.6049],\n",
      "        [ 16.7631,  -0.6760,  19.0723,  -2.7053, -13.5907,  11.4379, -21.9933,\n",
      "          11.2746,   7.3812,   2.6729],\n",
      "        [  9.4339,  -9.8772,   4.3865,   3.7688,  -7.1725,   2.4993,  -3.0820,\n",
      "           8.4113,  -6.5101,   0.7645],\n",
      "        [ 12.5504,   3.4987,  12.2270,  -1.9977, -13.3635,   7.4540, -11.4085,\n",
      "          -4.0800,  -4.9176,   6.7501],\n",
      "        [ 21.3943, -11.1244,  13.1754, -12.5557, -19.2636,  11.0549, -11.3687,\n",
      "           6.3644, -12.1486,   9.9322],\n",
      "        [ 15.2535,  -6.6955,  16.3370,  -2.1547,  -3.0452,   4.6831,  -1.5714,\n",
      "           7.4023, -12.9460,   8.4765],\n",
      "        [ 17.8196,  -9.9161,  15.4589,  -6.1232, -15.3724,   6.2247,  -7.9870,\n",
      "           9.4141, -15.0712,   5.7585],\n",
      "        [ 10.6299,  -7.9704,  13.2567,   5.1271, -17.0540,   7.2560,  -6.6239,\n",
      "          -1.1753,   0.3564,   3.5353],\n",
      "        [ 15.9785, -11.5036,   9.1575,   2.8693, -15.7134,   2.7244, -10.4564,\n",
      "          12.3683,   2.1941,  -2.3040],\n",
      "        [  7.4528,  -8.0569,  11.8783,  -8.7704, -11.0522,  10.7527,  -5.5061,\n",
      "          10.3303,  -5.2688,  -1.5240],\n",
      "        [ 22.1969, -11.0252,  16.9630,  -8.2167,   4.7603,   8.9557, -10.9277,\n",
      "          -6.2491,  -5.2032,   3.4006],\n",
      "        [ 12.0063, -14.5441,  10.0402, -13.2677, -21.2509,  15.7056,  -8.0085,\n",
      "           7.6273,  -4.5146,   7.6617],\n",
      "        [ 12.0066, -11.4234,   8.7120,   4.2764, -14.6022,   9.2043,  -1.8869,\n",
      "           3.0375,  -8.8322,  -0.4848],\n",
      "        [ 14.1994,  -6.1576,  13.8890,  -0.6159, -12.4375,   7.2560, -16.2037,\n",
      "           3.5755,  -7.4685,   4.2831],\n",
      "        [ 13.5773,  -8.2223,   9.6967,  -1.9800, -13.9147,  -0.3675,  -8.1488,\n",
      "           6.9879, -17.6469,  -8.2747],\n",
      "        [ 16.1784,  -4.9555,   9.7777, -13.6449,  -9.5061,   4.2800, -12.8906,\n",
      "          11.9610,  -3.0993,  -1.8343],\n",
      "        [ 16.2967,  -7.9307,  16.5241,   0.3671, -12.6321,   4.1124, -11.6114,\n",
      "           7.8654,  -6.9801,   4.4860],\n",
      "        [ 11.0328,  -9.9166,  12.4505,   2.4065,  -8.6309,  12.1440, -17.2987,\n",
      "          12.7172, -19.3048,  -3.0129],\n",
      "        [ 15.8981,  -3.8445,   8.4841,  -8.3022,  -3.8919,   7.0538, -19.9250,\n",
      "          13.3936,  -8.3713,   5.5412],\n",
      "        [  9.6558,  -3.9039,  10.7038,  -5.9037, -12.4302,   5.8674, -17.8895,\n",
      "           1.4255,  -4.2831,   1.2004],\n",
      "        [ 19.8054,  -5.3078,  16.2927,   4.2920,  -3.7193,   3.7073,   5.1930,\n",
      "           9.3517,  -8.0588,   8.8672],\n",
      "        [ 15.2054,  -9.3973,   7.6298,  12.7484, -17.8891,   2.0904, -11.1613,\n",
      "           7.0309,   0.0481,   3.4036],\n",
      "        [ 16.6996,   1.2062,  12.1079,   2.7358,  -8.5571,   3.3436,   2.4218,\n",
      "           9.5632,  -1.6391,   9.7476],\n",
      "        [ 21.4144, -11.3915,  12.9583,  -8.6063, -15.6089,  12.1958, -11.0838,\n",
      "           9.2962,   4.1836,   1.9407],\n",
      "        [ 10.0496,  -6.7330,   9.3364,   2.8913, -15.7882,   8.2760, -10.5333,\n",
      "           6.8488,  -9.5472,  -6.1600],\n",
      "        [  9.8844,  -9.3546,  14.9095,   4.8789, -20.9969,   6.3473,  -8.6761,\n",
      "           9.9611, -10.6631,  -5.0415],\n",
      "        [ 12.7629,   7.5170,  16.3011,  -4.6633, -13.8975,   5.5494, -17.3863,\n",
      "           2.6706, -15.1205,  -3.4977],\n",
      "        [ 15.6856, -11.5120,  13.6177,  -0.6840,  -7.8746,  11.1373,  -4.8006,\n",
      "          10.7892,  -8.3871,  -5.8476],\n",
      "        [ 11.2220,  -1.7021,  15.9330,  -0.4196, -16.4066,   5.5984,  -2.9424,\n",
      "           9.9280, -16.2684,   1.9461],\n",
      "        [ 16.5793, -18.1127,  17.4082, -11.2551, -14.0933,  10.1108,  -5.7194,\n",
      "          -3.9232,  -7.1698,   8.4524],\n",
      "        [  9.5553,   3.1231,   6.7064,  -7.5378, -16.3525,  12.1032, -18.3770,\n",
      "           6.8594,  -8.0007,   5.6261],\n",
      "        [ 11.4663,   1.5939,  13.7630,  -0.4863, -12.6175,  10.1017, -11.5863,\n",
      "          15.5255, -11.7674,   8.7932],\n",
      "        [ 15.7985,  -8.7231,  25.4024,   1.1213,  -3.4271,   9.6878,  -2.3372,\n",
      "           9.2402,  -0.4252,   9.5610],\n",
      "        [  7.9880, -13.0392,  12.9171,  -1.4789, -16.1644,   5.3204, -10.3348,\n",
      "          13.1604,  -1.9952,  -2.6542],\n",
      "        [ 16.5871,  -2.7703,  11.9201,  -3.7580,  -7.2833,   6.8034, -14.0833,\n",
      "           7.1285,  -8.3491,  -1.1910],\n",
      "        [ 12.1918,  -3.3033,  18.9749,  -3.1114, -10.2387,   4.6868, -20.7302,\n",
      "           7.9164, -11.4234,   1.8999],\n",
      "        [ 11.0251,   1.1958,   9.9856,  -0.3596,  -8.9090,   6.2221,  -3.6238,\n",
      "          14.0936, -10.2967,   2.7303],\n",
      "        [ 14.8491,  -2.5848,  12.1049,  -4.5266, -12.0113,  12.3074, -15.2506,\n",
      "           4.7208,  -2.4189,   1.2231],\n",
      "        [ 19.7826, -10.8623,  13.2718,   3.0762,  -4.3765,   2.3961,  -0.1717,\n",
      "           6.2389,  -4.4156,   3.5778],\n",
      "        [ 11.4743,  -6.8945,  10.7610,  -4.8486, -16.6218,  17.2610, -21.6117,\n",
      "           8.1206, -17.5356,  -4.0865],\n",
      "        [ 20.5539,  -2.5632,   8.8179,  -1.4020, -10.3014,   1.0518,  -9.6250,\n",
      "           2.5632,  -6.9828,   5.5441],\n",
      "        [ 13.3615,  -6.2930,  14.5406,  -0.9059,  -6.8862,  10.0443, -21.6113,\n",
      "          15.8149, -17.7040,  -1.5262],\n",
      "        [ 15.7730, -10.0744,  12.4190,  -9.1260, -13.2721,   8.7849,  -8.9280,\n",
      "           8.0422, -17.4299,   4.0179],\n",
      "        [ 17.1388,   1.4428,  16.9109,  -0.4963,  -6.7879,   0.2553, -12.9860,\n",
      "           8.8931, -16.7316,  -1.1417],\n",
      "        [  5.4797, -10.6012,  14.3950,  -2.9109, -15.3145,   7.4749, -22.5037,\n",
      "          10.8258, -16.9114,  -2.3943],\n",
      "        [  5.7193, -10.1843,  10.7967,   5.4524, -14.4478,   6.7246,  -6.5188,\n",
      "           7.4685,  -7.4834,   9.3702],\n",
      "        [ 16.3011, -12.3344,  11.0231,   2.9413,  -9.9974,   7.7924, -15.0647,\n",
      "           6.8820, -10.0368,  -5.9302],\n",
      "        [ 15.5487,  -7.5707,   3.2241,  -0.1621, -16.9137,   7.0933,  -8.2706,\n",
      "          -0.6180, -10.5382,   3.9084],\n",
      "        [  8.5431,  -2.1659,  13.1543, -14.9789, -13.8913,  12.0663, -16.6579,\n",
      "          12.2524,  -2.3852,   3.2061],\n",
      "        [ 11.6030,  -8.0540,   6.5862,   6.9806,  -5.3047,   8.6401, -12.2193,\n",
      "           3.2283,  -4.1262,   9.8376]])\n"
     ]
    }
   ],
   "source": [
    "## Your solution\n",
    "\n",
    "def activation(x):\n",
    "    \n",
    "    return 1 / (1+torch.exp(-x))\n",
    "\n",
    "torch.manual_seed(9)\n",
    "\n",
    "# images = images.view(64,784)\n",
    "\n",
    "features = images.view(64,784)\n",
    "\n",
    "n_inputs = features.shape[1]\n",
    "n_hidden = 256\n",
    "n_output = 10\n",
    "\n",
    "W1 = torch.randn(n_inputs,n_hidden)\n",
    "W2 = torch.randn(n_hidden,n_output)\n",
    "B1 = torch.randn(n_hidden)\n",
    "B2 = torch.randn(n_output)\n",
    "\n",
    "hidden = activation(torch.matmul(features,W1)+B1)\n",
    "\n",
    "out = torch.matmul(hidden,W2)+B2    # output of your network, should have shape (64,10)\n",
    "\n",
    "print(out)"
   ]
  },
  {
   "cell_type": "markdown",
   "metadata": {},
   "source": [
    "Now we have 10 outputs for our network. We want to pass in an image to our network and get out a probability distribution over the classes that tells us the likely class(es) the image belongs to. Something that looks like this:\n",
    "<img src='assets/image_distribution.png' width=500px>\n",
    "\n",
    "Here we see that the probability for each class is roughly the same. This is representing an untrained network, it hasn't seen any data yet so it just returns a uniform distribution with equal probabilities for each class.\n",
    "\n",
    "To calculate this probability distribution, we often use the [**softmax** function](https://en.wikipedia.org/wiki/Softmax_function). Mathematically this looks like\n",
    "\n",
    "$$\n",
    "\\Large \\sigma(x_i) = \\cfrac{e^{x_i}}{\\sum_k^K{e^{x_k}}}\n",
    "$$\n",
    "\n",
    "What this does is squish each input $x_i$ between 0 and 1 and normalizes the values to give you a proper probability distribution where the probabilites sum up to one.\n",
    "\n",
    "> **Exercise:** Implement a function `softmax` that performs the softmax calculation and returns probability distributions for each example in the batch. Note that you'll need to pay attention to the shapes when doing this. If you have a tensor `a` with shape `(64, 10)` and a tensor `b` with shape `(64,)`, doing `a/b` will give you an error because PyTorch will try to do the division across the columns (called broadcasting) but you'll get a size mismatch. The way to think about this is for each of the 64 examples, you only want to divide by one value, the sum in the denominator. So you need `b` to have a shape of `(64, 1)`. This way PyTorch will divide the 10 values in each row of `a` by the one value in each row of `b`. Pay attention to how you take the sum as well. You'll need to define the `dim` keyword in `torch.sum`. Setting `dim=0` takes the sum across the rows while `dim=1` takes the sum across the columns."
   ]
  },
  {
   "cell_type": "code",
   "execution_count": 41,
   "metadata": {},
   "outputs": [
    {
     "name": "stdout",
     "output_type": "stream",
     "text": [
      "torch.Size([64, 10])\n",
      "tensor([1.0000, 1.0000, 1.0000, 1.0000, 1.0000, 1.0000, 1.0000, 1.0000, 1.0000,\n",
      "        1.0000, 1.0000, 1.0000, 1.0000, 1.0000, 1.0000, 1.0000, 1.0000, 1.0000,\n",
      "        1.0000, 1.0000, 1.0000, 1.0000, 1.0000, 1.0000, 1.0000, 1.0000, 1.0000,\n",
      "        1.0000, 1.0000, 1.0000, 1.0000, 1.0000, 1.0000, 1.0000, 1.0000, 1.0000,\n",
      "        1.0000, 1.0000, 1.0000, 1.0000, 1.0000, 1.0000, 1.0000, 1.0000, 1.0000,\n",
      "        1.0000, 1.0000, 1.0000, 1.0000, 1.0000, 1.0000, 1.0000, 1.0000, 1.0000,\n",
      "        1.0000, 1.0000, 1.0000, 1.0000, 1.0000, 1.0000, 1.0000, 1.0000, 1.0000,\n",
      "        1.0000])\n"
     ]
    }
   ],
   "source": [
    "def softmax(x):\n",
    "    ## TODO: Implement the softmax function here\n",
    "    exp = torch.exp(x)\n",
    "    return exp/torch.sum(exp,dim=1).view(-1,1)\n",
    "\n",
    "# Here, out should be the output of the network in the previous excercise with shape (64,10)\n",
    "probabilities = softmax(out)\n",
    "\n",
    "# Does it have the right shape? Should be (64, 10)\n",
    "print(probabilities.shape)\n",
    "# Does it sum to 1?\n",
    "print(probabilities.sum(dim=1))"
   ]
  },
  {
   "cell_type": "markdown",
   "metadata": {},
   "source": [
    "## Building networks with PyTorch\n",
    "\n",
    "PyTorch provides a module `nn` that makes building networks much simpler. Here I'll show you how to build the same one as above with 784 inputs, 256 hidden units, 10 output units and a softmax output."
   ]
  },
  {
   "cell_type": "code",
   "execution_count": 42,
   "metadata": {},
   "outputs": [],
   "source": [
    "from torch import nn"
   ]
  },
  {
   "cell_type": "code",
   "execution_count": 43,
   "metadata": {},
   "outputs": [],
   "source": [
    "class Network(nn.Module):\n",
    "    def __init__(self):\n",
    "        super().__init__()\n",
    "        \n",
    "        # Inputs to hidden layer linear transformation\n",
    "        self.hidden = nn.Linear(784, 256)\n",
    "        # Output layer, 10 units - one for each digit\n",
    "        self.output = nn.Linear(256, 10)\n",
    "        \n",
    "        # Define sigmoid activation and softmax output \n",
    "        self.sigmoid = nn.Sigmoid()\n",
    "        self.softmax = nn.Softmax(dim=1)\n",
    "        \n",
    "    def forward(self, x):\n",
    "        # Pass the input tensor through each of our operations\n",
    "        x = self.hidden(x)\n",
    "        x = self.sigmoid(x)\n",
    "        x = self.output(x)\n",
    "        x = self.softmax(x)\n",
    "        \n",
    "        return x"
   ]
  },
  {
   "cell_type": "markdown",
   "metadata": {},
   "source": [
    "Let's go through this bit by bit.\n",
    "\n",
    "```python\n",
    "class Network(nn.Module):\n",
    "```\n",
    "\n",
    "Here we're inheriting from `nn.Module`. Combined with `super().__init__()` this creates a class that tracks the architecture and provides a lot of useful methods and attributes. It is mandatory to inherit from `nn.Module` when you're creating a class for your network. The name of the class itself can be anything.\n",
    "\n",
    "```python\n",
    "self.hidden = nn.Linear(784, 256)\n",
    "```\n",
    "\n",
    "This line creates a module for a linear transformation, $x\\mathbf{W} + b$, with 784 inputs and 256 outputs and assigns it to `self.hidden`. The module automatically creates the weight and bias tensors which we'll use in the `forward` method. You can access the weight and bias tensors once the network once it's create at `net.hidden.weight` and `net.hidden.bias`.\n",
    "\n",
    "```python\n",
    "self.output = nn.Linear(256, 10)\n",
    "```\n",
    "\n",
    "Similarly, this creates another linear transformation with 256 inputs and 10 outputs.\n",
    "\n",
    "```python\n",
    "self.sigmoid = nn.Sigmoid()\n",
    "self.softmax = nn.Softmax(dim=1)\n",
    "```\n",
    "\n",
    "Here I defined operations for the sigmoid activation and softmax output. Setting `dim=1` in `nn.Softmax(dim=1)` calculates softmax across the columns.\n",
    "\n",
    "```python\n",
    "def forward(self, x):\n",
    "```\n",
    "\n",
    "PyTorch networks created with `nn.Module` must have a `forward` method defined. It takes in a tensor `x` and passes it through the operations you defined in the `__init__` method.\n",
    "\n",
    "```python\n",
    "x = self.hidden(x)\n",
    "x = self.sigmoid(x)\n",
    "x = self.output(x)\n",
    "x = self.softmax(x)\n",
    "```\n",
    "\n",
    "Here the input tensor `x` is passed through each operation a reassigned to `x`. We can see that the input tensor goes through the hidden layer, then a sigmoid function, then the output layer, and finally the softmax function. It doesn't matter what you name the variables here, as long as the inputs and outputs of the operations match the network architecture you want to build. The order in which you define things in the `__init__` method doesn't matter, but you'll need to sequence the operations correctly in the `forward` method.\n",
    "\n",
    "Now we can create a `Network` object."
   ]
  },
  {
   "cell_type": "code",
   "execution_count": 44,
   "metadata": {},
   "outputs": [
    {
     "data": {
      "text/plain": [
       "Network(\n",
       "  (hidden): Linear(in_features=784, out_features=256, bias=True)\n",
       "  (output): Linear(in_features=256, out_features=10, bias=True)\n",
       "  (sigmoid): Sigmoid()\n",
       "  (softmax): Softmax()\n",
       ")"
      ]
     },
     "execution_count": 44,
     "metadata": {},
     "output_type": "execute_result"
    }
   ],
   "source": [
    "# Create the network and look at it's text representation\n",
    "model = Network()\n",
    "model"
   ]
  },
  {
   "cell_type": "markdown",
   "metadata": {},
   "source": [
    "You can define the network somewhat more concisely and clearly using the `torch.nn.functional` module. This is the most common way you'll see networks defined as many operations are simple element-wise functions. We normally import this module as `F`, `import torch.nn.functional as F`."
   ]
  },
  {
   "cell_type": "code",
   "execution_count": null,
   "metadata": {},
   "outputs": [],
   "source": [
    "import torch.nn.functional as F\n",
    "\n",
    "class Network(nn.Module):\n",
    "    def __init__(self):\n",
    "        super().__init__()\n",
    "        # Inputs to hidden layer linear transformation\n",
    "        self.hidden = nn.Linear(784, 256)\n",
    "        # Output layer, 10 units - one for each digit\n",
    "        self.output = nn.Linear(256, 10)\n",
    "        \n",
    "    def forward(self, x):\n",
    "        # Hidden layer with sigmoid activation\n",
    "        x = F.sigmoid(self.hidden(x))\n",
    "        # Output layer with softmax activation\n",
    "        x = F.softmax(self.output(x), dim=1)\n",
    "        \n",
    "        return x"
   ]
  },
  {
   "cell_type": "markdown",
   "metadata": {},
   "source": [
    "### Activation functions\n",
    "\n",
    "So far we've only been looking at the softmax activation, but in general any function can be used as an activation function. The only requirement is that for a network to approximate a non-linear function, the activation functions must be non-linear. Here are a few more examples of common activation functions: Tanh (hyperbolic tangent), and ReLU (rectified linear unit).\n",
    "\n",
    "<img src=\"assets/activation.png\" width=700px>\n",
    "\n",
    "In practice, the ReLU function is used almost exclusively as the activation function for hidden layers."
   ]
  },
  {
   "cell_type": "markdown",
   "metadata": {},
   "source": [
    "### Your Turn to Build a Network\n",
    "\n",
    "<img src=\"assets/mlp_mnist.png\" width=600px>\n",
    "\n",
    "> **Exercise:** Create a network with 784 input units, a hidden layer with 128 units and a ReLU activation, then a hidden layer with 64 units and a ReLU activation, and finally an output layer with a softmax activation as shown above. You can use a ReLU activation with the `nn.ReLU` module or `F.relu` function."
   ]
  },
  {
   "cell_type": "code",
   "execution_count": 57,
   "metadata": {
    "scrolled": true
   },
   "outputs": [],
   "source": [
    "## Your solution here\n",
    "\n",
    "from torch import nn\n",
    "import torch.nn.functional as F\n",
    "\n",
    "class network(nn.Module):\n",
    "    \n",
    "    def __init__(self):\n",
    "        \n",
    "        super().__init__()\n",
    "        \n",
    "        self.hidden1 = nn.Linear(784,128)\n",
    "        self.hidden2 = nn.Linear(128,64)\n",
    "        self.output = nn.Linear(64,10)\n",
    "        \n",
    "    def forward(self,x):\n",
    "        \n",
    "        x = F.relu(self.hidden1(x))\n",
    "        x = F.relu(self.hidden2(x))\n",
    "        x = F.softmax(self.output(x),dim=1)\n",
    "        \n",
    "        return x\n",
    "\n",
    "model = network()\n",
    "model\n",
    "x = model.forward(features)\n",
    "print(x.sum(dim=1))"
   ]
  },
  {
   "cell_type": "markdown",
   "metadata": {},
   "source": [
    "### Initializing weights and biases\n",
    "\n",
    "The weights and such are automatically initialized for you, but it's possible to customize how they are initialized. The weights and biases are tensors attached to the layer you defined, you can get them with `model.fc1.weight` for instance."
   ]
  },
  {
   "cell_type": "code",
   "execution_count": 63,
   "metadata": {},
   "outputs": [
    {
     "name": "stdout",
     "output_type": "stream",
     "text": [
      "Parameter containing:\n",
      "tensor([[ 0.0125,  0.0305,  0.0002,  ...,  0.0346, -0.0284, -0.0268],\n",
      "        [-0.0048,  0.0187, -0.0205,  ...,  0.0263, -0.0331, -0.0293],\n",
      "        [-0.0179, -0.0278, -0.0047,  ..., -0.0294,  0.0116,  0.0299],\n",
      "        ...,\n",
      "        [-0.0088,  0.0290, -0.0242,  ...,  0.0338, -0.0001, -0.0026],\n",
      "        [ 0.0002,  0.0319,  0.0225,  ...,  0.0116,  0.0163, -0.0246],\n",
      "        [ 0.0238, -0.0028,  0.0065,  ..., -0.0038, -0.0146,  0.0101]],\n",
      "       requires_grad=True)\n",
      "Parameter containing:\n",
      "tensor([-0.0163,  0.0262,  0.0271, -0.0128,  0.0210,  0.0124, -0.0108, -0.0146,\n",
      "         0.0165,  0.0336,  0.0111,  0.0149,  0.0295,  0.0155,  0.0328, -0.0098,\n",
      "         0.0141, -0.0250,  0.0304,  0.0315,  0.0338, -0.0035,  0.0008,  0.0139,\n",
      "        -0.0069,  0.0136, -0.0285, -0.0164, -0.0118,  0.0117, -0.0179, -0.0250,\n",
      "        -0.0273, -0.0317, -0.0355, -0.0311, -0.0002,  0.0018, -0.0248,  0.0109,\n",
      "        -0.0188,  0.0143, -0.0016,  0.0278, -0.0078, -0.0330,  0.0236,  0.0252,\n",
      "         0.0246,  0.0266,  0.0263, -0.0186,  0.0235, -0.0248,  0.0015, -0.0282,\n",
      "         0.0053, -0.0067, -0.0011,  0.0147,  0.0167,  0.0326, -0.0225,  0.0130,\n",
      "        -0.0050, -0.0279, -0.0217, -0.0313, -0.0245, -0.0216,  0.0292,  0.0247,\n",
      "         0.0016,  0.0275, -0.0139, -0.0285,  0.0005,  0.0219, -0.0194, -0.0277,\n",
      "        -0.0199, -0.0196, -0.0049,  0.0189,  0.0104,  0.0206,  0.0144,  0.0347,\n",
      "         0.0213,  0.0207,  0.0090, -0.0001,  0.0017,  0.0233, -0.0279, -0.0307,\n",
      "        -0.0087,  0.0010,  0.0078, -0.0169, -0.0285,  0.0124,  0.0072,  0.0121,\n",
      "        -0.0162, -0.0284, -0.0192, -0.0309,  0.0010, -0.0106, -0.0107, -0.0154,\n",
      "         0.0243,  0.0132, -0.0139, -0.0176, -0.0002, -0.0126, -0.0160, -0.0278,\n",
      "         0.0133, -0.0277,  0.0245, -0.0334,  0.0089, -0.0110,  0.0184,  0.0326],\n",
      "       requires_grad=True)\n"
     ]
    }
   ],
   "source": [
    "print(model.hidden1.weight)\n",
    "print(model.hidden1.bias)"
   ]
  },
  {
   "cell_type": "markdown",
   "metadata": {},
   "source": [
    "For custom initialization, we want to modify these tensors in place. These are actually autograd *Variables*, so we need to get back the actual tensors with `model.fc1.weight.data`. Once we have the tensors, we can fill them with zeros (for biases) or random normal values."
   ]
  },
  {
   "cell_type": "code",
   "execution_count": 65,
   "metadata": {},
   "outputs": [
    {
     "data": {
      "text/plain": [
       "tensor([0., 0., 0., 0., 0., 0., 0., 0., 0., 0., 0., 0., 0., 0., 0., 0., 0., 0.,\n",
       "        0., 0., 0., 0., 0., 0., 0., 0., 0., 0., 0., 0., 0., 0., 0., 0., 0., 0.,\n",
       "        0., 0., 0., 0., 0., 0., 0., 0., 0., 0., 0., 0., 0., 0., 0., 0., 0., 0.,\n",
       "        0., 0., 0., 0., 0., 0., 0., 0., 0., 0., 0., 0., 0., 0., 0., 0., 0., 0.,\n",
       "        0., 0., 0., 0., 0., 0., 0., 0., 0., 0., 0., 0., 0., 0., 0., 0., 0., 0.,\n",
       "        0., 0., 0., 0., 0., 0., 0., 0., 0., 0., 0., 0., 0., 0., 0., 0., 0., 0.,\n",
       "        0., 0., 0., 0., 0., 0., 0., 0., 0., 0., 0., 0., 0., 0., 0., 0., 0., 0.,\n",
       "        0., 0.])"
      ]
     },
     "execution_count": 65,
     "metadata": {},
     "output_type": "execute_result"
    }
   ],
   "source": [
    "# Set biases to all zeros\n",
    "model.hidden1.bias.data.fill_(0)"
   ]
  },
  {
   "cell_type": "code",
   "execution_count": 66,
   "metadata": {},
   "outputs": [
    {
     "data": {
      "text/plain": [
       "tensor([[-0.0245,  0.0063, -0.0114,  ...,  0.0033, -0.0040,  0.0053],\n",
       "        [-0.0105, -0.0024,  0.0064,  ...,  0.0006,  0.0065,  0.0062],\n",
       "        [ 0.0093, -0.0026,  0.0100,  ..., -0.0135,  0.0064, -0.0179],\n",
       "        ...,\n",
       "        [ 0.0021, -0.0029,  0.0098,  ..., -0.0073, -0.0042,  0.0017],\n",
       "        [-0.0006,  0.0150, -0.0031,  ...,  0.0245,  0.0074, -0.0105],\n",
       "        [ 0.0024,  0.0037, -0.0121,  ..., -0.0001,  0.0022,  0.0106]])"
      ]
     },
     "execution_count": 66,
     "metadata": {},
     "output_type": "execute_result"
    }
   ],
   "source": [
    "# sample from random normal with standard dev = 0.01\n",
    "model.hidden1.weight.data.normal_(std=0.01)"
   ]
  },
  {
   "cell_type": "markdown",
   "metadata": {},
   "source": [
    "### Forward pass\n",
    "\n",
    "Now that we have a network, let's see what happens when we pass in an image."
   ]
  },
  {
   "cell_type": "code",
   "execution_count": 67,
   "metadata": {},
   "outputs": [
    {
     "data": {
      "image/png": "[encoded data removed]",
      "text/plain": [
       "<Figure size 432x648 with 2 Axes>"
      ]
     },
     "metadata": {
      "image/png": {
       "height": 226,
       "width": 423
      },
      "needs_background": "light"
     },
     "output_type": "display_data"
    }
   ],
   "source": [
    "# Grab some data \n",
    "dataiter = iter(trainloader)\n",
    "images, labels = dataiter.next()\n",
    "\n",
    "# Resize images into a 1D vector, new shape is (batch size, color channels, image pixels) \n",
    "images.resize_(64, 1, 784)\n",
    "# or images.resize_(images.shape[0], 1, 784) to automatically get batch size\n",
    "\n",
    "# Forward pass through the network\n",
    "img_idx = 0\n",
    "ps = model.forward(images[img_idx,:])\n",
    "\n",
    "img = images[img_idx]\n",
    "helper.view_classify(img.view(1, 28, 28), ps)"
   ]
  },
  {
   "cell_type": "markdown",
   "metadata": {},
   "source": [
    "As you can see above, our network has basically no idea what this digit is. It's because we haven't trained it yet, all the weights are random!\n",
    "\n",
    "### Using `nn.Sequential`\n",
    "\n",
    "PyTorch provides a convenient way to build networks like this where a tensor is passed sequentially through operations, `nn.Sequential` ([documentation](https://pytorch.org/docs/master/nn.html#torch.nn.Sequential)). Using this to build the equivalent network:"
   ]
  },
  {
   "cell_type": "code",
   "execution_count": 68,
   "metadata": {},
   "outputs": [
    {
     "name": "stdout",
     "output_type": "stream",
     "text": [
      "Sequential(\n",
      "  (0): Linear(in_features=784, out_features=128, bias=True)\n",
      "  (1): ReLU()\n",
      "  (2): Linear(in_features=128, out_features=64, bias=True)\n",
      "  (3): ReLU()\n",
      "  (4): Linear(in_features=64, out_features=10, bias=True)\n",
      "  (5): Softmax()\n",
      ")\n"
     ]
    },
    {
     "data": {
      "image/png": "[encoded data removed]",
      "text/plain": [
       "<Figure size 432x648 with 2 Axes>"
      ]
     },
     "metadata": {
      "image/png": {
       "height": 226,
       "width": 423
      },
      "needs_background": "light"
     },
     "output_type": "display_data"
    }
   ],
   "source": [
    "# Hyperparameters for our network\n",
    "input_size = 784\n",
    "hidden_sizes = [128, 64]\n",
    "output_size = 10\n",
    "\n",
    "# Build a feed-forward network\n",
    "model = nn.Sequential(nn.Linear(input_size, hidden_sizes[0]),\n",
    "                      nn.ReLU(),\n",
    "                      nn.Linear(hidden_sizes[0], hidden_sizes[1]),\n",
    "                      nn.ReLU(),\n",
    "                      nn.Linear(hidden_sizes[1], output_size),\n",
    "                      nn.Softmax(dim=1))\n",
    "print(model)\n",
    "\n",
    "# Forward pass through the network and display output\n",
    "images, labels = next(iter(trainloader))\n",
    "images.resize_(images.shape[0], 1, 784)\n",
    "ps = model.forward(images[0,:])\n",
    "helper.view_classify(images[0].view(1, 28, 28), ps)"
   ]
  },
  {
   "cell_type": "markdown",
   "metadata": {},
   "source": [
    "Here our model is the same as before: 784 input units, a hidden layer with 128 units, ReLU activation, 64 unit hidden layer, another ReLU, then the output layer with 10 units, and the softmax output.\n",
    "\n",
    "The operations are availble by passing in the appropriate index. For example, if you want to get first Linear operation and look at the weights, you'd use `model[0]`."
   ]
  },
  {
   "cell_type": "code",
   "execution_count": 69,
   "metadata": {},
   "outputs": [
    {
     "name": "stdout",
     "output_type": "stream",
     "text": [
      "Linear(in_features=784, out_features=128, bias=True)\n"
     ]
    },
    {
     "data": {
      "text/plain": [
       "Parameter containing:\n",
       "tensor([[-0.0136,  0.0247, -0.0020,  ...,  0.0299,  0.0241,  0.0267],\n",
       "        [-0.0321, -0.0096, -0.0164,  ...,  0.0104, -0.0283, -0.0300],\n",
       "        [ 0.0353, -0.0014,  0.0287,  ..., -0.0132, -0.0068,  0.0322],\n",
       "        ...,\n",
       "        [-0.0125, -0.0116,  0.0194,  ..., -0.0110,  0.0299,  0.0165],\n",
       "        [-0.0342, -0.0115,  0.0346,  ..., -0.0037,  0.0159,  0.0135],\n",
       "        [-0.0111, -0.0223,  0.0263,  ..., -0.0224,  0.0104, -0.0084]],\n",
       "       requires_grad=True)"
      ]
     },
     "execution_count": 69,
     "metadata": {},
     "output_type": "execute_result"
    }
   ],
   "source": [
    "print(model[0])\n",
    "model[0].weight"
   ]
  },
  {
   "cell_type": "markdown",
   "metadata": {},
   "source": [
    "You can also pass in an `OrderedDict` to name the individual layers and operations, instead of using incremental integers. Note that dictionary keys must be unique, so _each operation must have a different name_."
   ]
  },
  {
   "cell_type": "code",
   "execution_count": 70,
   "metadata": {},
   "outputs": [
    {
     "data": {
      "text/plain": [
       "Sequential(\n",
       "  (fc1): Linear(in_features=784, out_features=128, bias=True)\n",
       "  (relu1): ReLU()\n",
       "  (fc2): Linear(in_features=128, out_features=64, bias=True)\n",
       "  (relu2): ReLU()\n",
       "  (output): Linear(in_features=64, out_features=10, bias=True)\n",
       "  (softmax): Softmax()\n",
       ")"
      ]
     },
     "execution_count": 70,
     "metadata": {},
     "output_type": "execute_result"
    }
   ],
   "source": [
    "from collections import OrderedDict\n",
    "model = nn.Sequential(OrderedDict([\n",
    "                      ('fc1', nn.Linear(input_size, hidden_sizes[0])),\n",
    "                      ('relu1', nn.ReLU()),\n",
    "                      ('fc2', nn.Linear(hidden_sizes[0], hidden_sizes[1])),\n",
    "                      ('relu2', nn.ReLU()),\n",
    "                      ('output', nn.Linear(hidden_sizes[1], output_size)),\n",
    "                      ('softmax', nn.Softmax(dim=1))]))\n",
    "model"
   ]
  },
  {
   "cell_type": "markdown",
   "metadata": {},
   "source": [
    "Now you can access layers either by integer or the name"
   ]
  },
  {
   "cell_type": "code",
   "execution_count": 71,
   "metadata": {},
   "outputs": [
    {
     "name": "stdout",
     "output_type": "stream",
     "text": [
      "Linear(in_features=784, out_features=128, bias=True)\n",
      "Linear(in_features=784, out_features=128, bias=True)\n"
     ]
    }
   ],
   "source": [
    "print(model[0])\n",
    "print(model.fc1)"
   ]
  },
  {
   "cell_type": "markdown",
   "metadata": {},
   "source": [
    "In the next notebook, we'll see how we can train a neural network to accuractly predict the numbers appearing in the MNIST images."
   ]
  }
 ],
 "metadata": {
  "kernelspec": {
   "display_name": "Python 3",
   "language": "python",
   "name": "python3"
  },
  "language_info": {
   "codemirror_mode": {
    "name": "ipython",
    "version": 3
   },
   "file_extension": ".py",
   "mimetype": "text/x-python",
   "name": "python",
   "nbconvert_exporter": "python",
   "pygments_lexer": "ipython3",
   "version": "3.7.0"
  }
 },
 "nbformat": 4,
 "nbformat_minor": 2
}
