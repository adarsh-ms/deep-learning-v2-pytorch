{
  "nbformat": 4,
  "nbformat_minor": 0,
  "metadata": {
    "colab": {
      "name": "Part 5 - Inference and Validation (Exercises).ipynb",
      "version": "0.3.2",
      "provenance": [],
      "collapsed_sections": []
    },
    "kernelspec": {
      "name": "python3",
      "display_name": "Python 3"
    },
    "accelerator": "GPU"
  },
  "cells": [
    {
      "metadata": {
        "id": "1ksnEE6nSlIF",
        "colab_type": "text"
      },
      "cell_type": "markdown",
      "source": [
        "# Inference and Validation\n",
        "\n",
        "Now that you have a trained network, you can use it for making predictions. This is typically called **inference**, a term borrowed from statistics. However, neural networks have a tendency to perform *too well* on the training data and aren't able to generalize to data that hasn't been seen before. This is called **overfitting** and it impairs inference performance. To test for overfitting while training, we measure the performance on data not in the training set called the **validation** set. We avoid overfitting through regularization such as dropout while monitoring the validation performance during training. In this notebook, I'll show you how to do this in PyTorch. \n",
        "\n",
        "As usual, let's start by loading the dataset through torchvision. You'll learn more about torchvision and loading data in a later part. This time we'll be taking advantage of the test set which you can get by setting `train=False` here:\n",
        "\n",
        "```python\n",
        "testset = datasets.FashionMNIST('~/.pytorch/F_MNIST_data/', download=True, train=False, transform=transform)\n",
        "```\n",
        "\n",
        "The test set contains images just like the training set. Typically you'll see 10-20% of the original dataset held out for testing and validation with the rest being used for training."
      ]
    },
    {
      "metadata": {
        "id": "zdCsuv7fSlIg",
        "colab_type": "code",
        "outputId": "9efbfcb7-22d8-4396-a21c-585432e19ef4",
        "colab": {
          "base_uri": "https://localhost:8080/",
          "height": 127
        }
      },
      "cell_type": "code",
      "source": [
        "import torch\n",
        "from torchvision import datasets, transforms\n",
        "\n",
        "# Define a transform to normalize the data\n",
        "transform = transforms.Compose([transforms.ToTensor(),\n",
        "                                transforms.Normalize((0.5, 0.5, 0.5), (0.5, 0.5, 0.5))])\n",
        "# Download and load the training data\n",
        "trainset = datasets.FashionMNIST('~/.pytorch/F_MNIST_data/', download=True, train=True, transform=transform)\n",
        "trainloader = torch.utils.data.DataLoader(trainset, batch_size=64, shuffle=True)\n",
        "\n",
        "# Download and load the test data\n",
        "testset = datasets.FashionMNIST('~/.pytorch/F_MNIST_data/', download=True, train=False, transform=transform)\n",
        "testloader = torch.utils.data.DataLoader(testset, batch_size=64, shuffle=True)"
      ],
      "execution_count": 0,
      "outputs": [
        {
          "output_type": "stream",
          "text": [
            "Downloading http://fashion-mnist.s3-website.eu-central-1.amazonaws.com/train-images-idx3-ubyte.gz\n",
            "Downloading http://fashion-mnist.s3-website.eu-central-1.amazonaws.com/train-labels-idx1-ubyte.gz\n",
            "Downloading http://fashion-mnist.s3-website.eu-central-1.amazonaws.com/t10k-images-idx3-ubyte.gz\n",
            "Downloading http://fashion-mnist.s3-website.eu-central-1.amazonaws.com/t10k-labels-idx1-ubyte.gz\n",
            "Processing...\n",
            "Done!\n"
          ],
          "name": "stdout"
        }
      ]
    },
    {
      "metadata": {
        "id": "PTRIBb7_SlJT",
        "colab_type": "text"
      },
      "cell_type": "markdown",
      "source": [
        "Here I'll create a model like normal, using the same one from my solution for part 4."
      ]
    },
    {
      "metadata": {
        "id": "uTRjqZoKSlJd",
        "colab_type": "code",
        "colab": {}
      },
      "cell_type": "code",
      "source": [
        "from torch import nn, optim\n",
        "import torch.nn.functional as F\n",
        "\n",
        "class Classifier(nn.Module):\n",
        "    def __init__(self):\n",
        "        super().__init__()\n",
        "        self.fc1 = nn.Linear(784, 256)\n",
        "        self.fc2 = nn.Linear(256, 128)\n",
        "        self.fc3 = nn.Linear(128, 64)\n",
        "        self.fc4 = nn.Linear(64, 10)\n",
        "        \n",
        "    def forward(self, x):\n",
        "        # make sure input tensor is flattened\n",
        "        x = x.view(x.shape[0], -1)\n",
        "        \n",
        "        x = F.relu(self.fc1(x))\n",
        "        x = F.relu(self.fc2(x))\n",
        "        x = F.relu(self.fc3(x))\n",
        "        x = F.log_softmax(self.fc4(x), dim=1)\n",
        "        \n",
        "        return x"
      ],
      "execution_count": 0,
      "outputs": []
    },
    {
      "metadata": {
        "id": "gyNSd_2zSlKD",
        "colab_type": "text"
      },
      "cell_type": "markdown",
      "source": [
        "The goal of validation is to measure the model's performance on data that isn't part of the training set. Performance here is up to the developer to define though. Typically this is just accuracy, the percentage of classes the network predicted correctly. Other options are [precision and recall](https://en.wikipedia.org/wiki/Precision_and_recall#Definition_(classification_context)) and top-5 error rate. We'll focus on accuracy here. First I'll do a forward pass with one batch from the test set."
      ]
    },
    {
      "metadata": {
        "id": "V66HjcATSlKN",
        "colab_type": "code",
        "outputId": "f76e0c7e-5a69-4967-b2fb-a9d140a762cc",
        "colab": {
          "base_uri": "https://localhost:8080/",
          "height": 35
        }
      },
      "cell_type": "code",
      "source": [
        "model = Classifier()\n",
        "\n",
        "images, labels = next(iter(testloader))\n",
        "# Get the class probabilities\n",
        "ps = torch.exp(model(images))\n",
        "# Make sure the shape is appropriate, we should get 10 class probabilities for 64 examples\n",
        "print(ps.shape)"
      ],
      "execution_count": 0,
      "outputs": [
        {
          "output_type": "stream",
          "text": [
            "torch.Size([64, 10])\n"
          ],
          "name": "stdout"
        }
      ]
    },
    {
      "metadata": {
        "id": "Cu1GhNvfSlK5",
        "colab_type": "text"
      },
      "cell_type": "markdown",
      "source": [
        "With the probabilities, we can get the most likely class using the `ps.topk` method. This returns the $k$ highest values. Since we just want the most likely class, we can use `ps.topk(1)`. This returns a tuple of the top-$k$ values and the top-$k$ indices. If the highest value is the fifth element, we'll get back 4 as the index."
      ]
    },
    {
      "metadata": {
        "id": "nrQy0WLHSlLB",
        "colab_type": "code",
        "outputId": "6a94b0f7-0143-458b-aabb-96534392bc63",
        "colab": {
          "base_uri": "https://localhost:8080/",
          "height": 201
        }
      },
      "cell_type": "code",
      "source": [
        "top_p, top_class = ps.topk(1, dim=1)\n",
        "# Look at the most likely classes for the first 10 examples\n",
        "print(top_class[:10,:])"
      ],
      "execution_count": 0,
      "outputs": [
        {
          "output_type": "stream",
          "text": [
            "tensor([[ 6],\n",
            "        [ 2],\n",
            "        [ 2],\n",
            "        [ 6],\n",
            "        [ 6],\n",
            "        [ 6],\n",
            "        [ 6],\n",
            "        [ 2],\n",
            "        [ 2],\n",
            "        [ 6]])\n"
          ],
          "name": "stdout"
        }
      ]
    },
    {
      "metadata": {
        "id": "SkqMh0-QSlLY",
        "colab_type": "text"
      },
      "cell_type": "markdown",
      "source": [
        "Now we can check if the predicted classes match the labels. This is simple to do by equating `top_class` and `labels`, but we have to be careful of the shapes. Here `top_class` is a 2D tensor with shape `(64, 1)` while `labels` is 1D with shape `(64)`. To get the equality to work out the way we want, `top_class` and `labels` must have the same shape.\n",
        "\n",
        "If we do\n",
        "\n",
        "```python\n",
        "equals = top_class == labels\n",
        "```\n",
        "\n",
        "`equals` will have shape `(64, 64)`, try it yourself. What it's doing is comparing the one element in each row of `top_class` with each element in `labels` which returns 64 True/False boolean values for each row."
      ]
    },
    {
      "metadata": {
        "id": "cEmbxF6mSlLw",
        "colab_type": "code",
        "colab": {}
      },
      "cell_type": "code",
      "source": [
        "equals = top_class == labels.view(*top_class.shape)"
      ],
      "execution_count": 0,
      "outputs": []
    },
    {
      "metadata": {
        "id": "rsZCYBJ3SlMd",
        "colab_type": "text"
      },
      "cell_type": "markdown",
      "source": [
        "Now we need to calculate the percentage of correct predictions. `equals` has binary values, either 0 or 1. This means that if we just sum up all the values and divide by the number of values, we get the percentage of correct predictions. This is the same operation as taking the mean, so we can get the accuracy with a call to `torch.mean`. If only it was that simple. If you try `torch.mean(equals)`, you'll get an error\n",
        "\n",
        "```\n",
        "RuntimeError: mean is not implemented for type torch.ByteTensor\n",
        "```\n",
        "\n",
        "This happens because `equals` has type `torch.ByteTensor` but `torch.mean` isn't implement for tensors with that type. So we'll need to convert `equals` to a float tensor. Note that when we take `torch.mean` it returns a scalar tensor, to get the actual value as a float we'll need to do `accuracy.item()`."
      ]
    },
    {
      "metadata": {
        "id": "V9NLeTx5SlMi",
        "colab_type": "code",
        "outputId": "83cbc248-039c-441f-e639-2f57e2a384b7",
        "colab": {
          "base_uri": "https://localhost:8080/",
          "height": 35
        }
      },
      "cell_type": "code",
      "source": [
        "accuracy = torch.mean(equals.type(torch.FloatTensor))\n",
        "print(f'Accuracy: {accuracy.item()*100}%')"
      ],
      "execution_count": 0,
      "outputs": [
        {
          "output_type": "stream",
          "text": [
            "Accuracy: 9.375%\n"
          ],
          "name": "stdout"
        }
      ]
    },
    {
      "metadata": {
        "id": "DXZjKIX0SlNe",
        "colab_type": "text"
      },
      "cell_type": "markdown",
      "source": [
        "The network is untrained so it's making random guesses and we should see an accuracy around 10%. Now let's train our network and include our validation pass so we can measure how well the network is performing on the test set. Since we're not updating our parameters in the validation pass, we can speed up our code by turning off gradients using `torch.no_grad()`:\n",
        "\n",
        "```python\n",
        "# turn off gradients\n",
        "with torch.no_grad():\n",
        "    # validation pass here\n",
        "    for images, labels in testloader:\n",
        "        ...\n",
        "```\n",
        "\n",
        ">**Exercise:** Implement the validation loop below and print out the total accuracy after the loop. You can largely copy and paste the code from above, but I suggest typing it in because writing it out yourself is essential for building the skill. In general you'll always learn more by typing it rather than copy-pasting. You should be able to get an accuracy above 80%."
      ]
    },
    {
      "metadata": {
        "id": "wzr8XOtBSlOB",
        "colab_type": "code",
        "outputId": "a5177670-6b0f-4c8e-c48f-dd380dfa93f4",
        "colab": {
          "base_uri": "https://localhost:8080/",
          "height": 568
        }
      },
      "cell_type": "code",
      "source": [
        "model = Classifier()\n",
        "criterion = nn.NLLLoss()\n",
        "optimizer = optim.Adam(model.parameters(), lr=0.003)\n",
        "\n",
        "epochs = 30\n",
        "steps = 0\n",
        "\n",
        "train_losses, test_losses = [], []\n",
        "for e in range(epochs):\n",
        "    running_loss = 0\n",
        "    for images, labels in trainloader:\n",
        "        \n",
        "        optimizer.zero_grad()\n",
        "        \n",
        "        log_ps = model(images)\n",
        "        loss = criterion(log_ps, labels)\n",
        "        loss.backward()\n",
        "        optimizer.step()\n",
        "        \n",
        "        running_loss += loss.item()\n",
        "    \n",
        "#     train_losses.append(running_loss)\n",
        "    \n",
        "    else:\n",
        "        ## TODO: Implement the validation pass and print out the validation accuracy\n",
        "        \n",
        "        with torch.no_grad():\n",
        "            running_loss = 0\n",
        "            for images,labels in testloader:\n",
        "                \n",
        "                ps_test = model(images)\n",
        "            \n",
        "                loss_test = criterion(ps_test,labels)\n",
        "                \n",
        "                running_loss += loss_test\n",
        "                \n",
        "                exp = torch.exp(ps_test)\n",
        "                \n",
        "                top_p,top_class = exp.topk(1)\n",
        "                \n",
        "                equal = top_class == labels.view(*top_class.shape)\n",
        "                \n",
        "                accuracy = torch.mean(equal.type(torch.FloatTensor))\n",
        "                \n",
        "                \n",
        "        test_losses.append(running_loss)\n",
        "        \n",
        "        \n",
        "        print(f'Accuracy: {accuracy.item()*100}%')"
      ],
      "execution_count": 0,
      "outputs": [
        {
          "output_type": "stream",
          "text": [
            "Accuracy: 81.25%\n",
            "Accuracy: 87.5%\n",
            "Accuracy: 81.25%\n",
            "Accuracy: 93.75%\n",
            "Accuracy: 81.25%\n",
            "Accuracy: 81.25%\n",
            "Accuracy: 100.0%\n",
            "Accuracy: 100.0%\n",
            "Accuracy: 100.0%\n",
            "Accuracy: 87.5%\n",
            "Accuracy: 87.5%\n",
            "Accuracy: 75.0%\n",
            "Accuracy: 93.75%\n",
            "Accuracy: 100.0%\n",
            "Accuracy: 87.5%\n",
            "Accuracy: 81.25%\n",
            "Accuracy: 81.25%\n",
            "Accuracy: 87.5%\n",
            "Accuracy: 87.5%\n",
            "Accuracy: 100.0%\n",
            "Accuracy: 100.0%\n",
            "Accuracy: 87.5%\n",
            "Accuracy: 87.5%\n",
            "Accuracy: 75.0%\n",
            "Accuracy: 81.25%\n",
            "Accuracy: 81.25%\n",
            "Accuracy: 87.5%\n",
            "Accuracy: 81.25%\n",
            "Accuracy: 75.0%\n",
            "Accuracy: 75.0%\n"
          ],
          "name": "stdout"
        }
      ]
    },
    {
      "metadata": {
        "id": "r1-ec8nlSlOk",
        "colab_type": "text"
      },
      "cell_type": "markdown",
      "source": [
        "## Overfitting\n",
        "\n",
        "If we look at the training and validation losses as we train the network, we can see a phenomenon known as overfitting.\n",
        "\n",
        "<img src='assets/overfitting.png' width=450px>\n",
        "\n",
        "The network learns the training set better and better, resulting in lower training losses. However, it starts having problems generalizing to data outside the training set leading to the validation loss increasing. The ultimate goal of any deep learning model is to make predictions on new data, so we should strive to get the lowest validation loss possible. One option is to use the version of the model with the lowest validation loss, here the one around 8-10 training epochs. This strategy is called *early-stopping*. In practice, you'd save the model frequently as you're training then later choose the model with the lowest validation loss.\n",
        "\n",
        "The most common method to reduce overfitting (outside of early-stopping) is *dropout*, where we randomly drop input units. This forces the network to share information between weights, increasing it's ability to generalize to new data. Adding dropout in PyTorch is straightforward using the [`nn.Dropout`](https://pytorch.org/docs/stable/nn.html#torch.nn.Dropout) module.\n",
        "\n",
        "```python\n",
        "class Classifier(nn.Module):\n",
        "    def __init__(self):\n",
        "        super().__init__()\n",
        "        self.fc1 = nn.Linear(784, 256)\n",
        "        self.fc2 = nn.Linear(256, 128)\n",
        "        self.fc3 = nn.Linear(128, 64)\n",
        "        self.fc4 = nn.Linear(64, 10)\n",
        "        \n",
        "        # Dropout module with 0.2 drop probability\n",
        "        self.dropout = nn.Dropout(p=0.2)\n",
        "        \n",
        "    def forward(self, x):\n",
        "        # make sure input tensor is flattened\n",
        "        x = x.view(x.shape[0], -1)\n",
        "        \n",
        "        # Now with dropout\n",
        "        x = self.dropout(F.relu(self.fc1(x)))\n",
        "        x = self.dropout(F.relu(self.fc2(x)))\n",
        "        x = self.dropout(F.relu(self.fc3(x)))\n",
        "        \n",
        "        # output so no dropout here\n",
        "        x = F.log_softmax(self.fc4(x), dim=1)\n",
        "        \n",
        "        return x\n",
        "```\n",
        "\n",
        "During training we want to use dropout to prevent overfitting, but during inference we want to use the entire network. So, we need to turn off dropout during validation, testing, and whenever we're using the network to make predictions. To do this, you use `model.eval()`. This sets the model to evaluation mode where the dropout probability is 0. You can turn dropout back on by setting the model to train mode with `model.train()`. In general, the pattern for the validation loop will look like this, where you turn off gradients, set the model to evaluation mode, calculate the validation loss and metric, then set the model back to train mode.\n",
        "\n",
        "```python\n",
        "# turn off gradients\n",
        "with torch.no_grad():\n",
        "    \n",
        "    # set model to evaluation mode\n",
        "    model.eval()\n",
        "    \n",
        "    # validation pass here\n",
        "    for images, labels in testloader:\n",
        "        ...\n",
        "\n",
        "# set model back to train mode\n",
        "model.train()\n",
        "```"
      ]
    },
    {
      "metadata": {
        "id": "IgKaQW4NSlOy",
        "colab_type": "text"
      },
      "cell_type": "markdown",
      "source": [
        "> **Exercise:** Add dropout to your model and train it on Fashion-MNIST again. See if you can get a lower validation loss or higher accuracy."
      ]
    },
    {
      "metadata": {
        "id": "nazUjaZeSlO6",
        "colab_type": "code",
        "colab": {}
      },
      "cell_type": "code",
      "source": [
        "## TODO: Define your model with dropout added\n",
        "\n",
        "import torch.nn.functional as F\n",
        "\n",
        "\n",
        "class nw(nn.Module):\n",
        "    \n",
        "    def __init__(self):\n",
        "        \n",
        "        super().__init__()\n",
        "         \n",
        "        features = images.view(images.shape[0],-1)\n",
        "        hidden = [512,256,128]\n",
        "        output = 10\n",
        "        \n",
        "        self.FC1 = nn.Linear(features.shape[1],hidden[0])\n",
        "        self.FC2 = nn.Linear(hidden[0],hidden[1])\n",
        "        self.FC3 = nn.Linear(hidden[1],hidden[2])\n",
        "        self.FC4 = nn.Linear(hidden[2],output)\n",
        "        \n",
        "        self.dropout = nn.Dropout(p=0.5)\n",
        "        \n",
        "    def forward(self,x):\n",
        "        \n",
        "        x = x.view(-1,features.shape[1])\n",
        "        \n",
        "        x = self.dropout(F.relu(self.FC1(x)))\n",
        "        x = self.dropout(F.relu(self.FC2(x)))\n",
        "        x = self.dropout(F.relu(self.FC3(x)))\n",
        "        x = F.log_softmax(self.FC4(x),dim=1)\n",
        "        \n",
        "        return x"
      ],
      "execution_count": 0,
      "outputs": []
    },
    {
      "metadata": {
        "id": "7LNZ8LOuSlPV",
        "colab_type": "code",
        "outputId": "de9b5056-05fd-4182-a4c8-c1cf86e9c957",
        "colab": {
          "base_uri": "https://localhost:8080/",
          "height": 935
        }
      },
      "cell_type": "code",
      "source": [
        "## TODO: Train your model with dropout, and monitor the training progress with the validation loss and accuracy\n",
        "\n",
        "from torch import optim\n",
        "\n",
        "model = nw()\n",
        "\n",
        "optimizer = optim.Adam(model.parameters(),lr=0.0003)\n",
        "\n",
        "criterion = nn.NLLLoss()\n",
        "\n",
        "epochs = 50\n",
        "\n",
        "train_loss ,test_loss = [],[]\n",
        "\n",
        "for e in range(epochs):\n",
        "  \n",
        "  net_loss = 0\n",
        "  \n",
        "  for images,labels in trainloader:\n",
        "       \n",
        "      output = model.forward(images)\n",
        "      \n",
        "      loss = criterion(output,labels)\n",
        "      \n",
        "      optimizer.zero_grad()\n",
        "      \n",
        "      loss.backward()\n",
        "      \n",
        "      optimizer.step()\n",
        "      \n",
        "      net_loss += loss.item()\n",
        "      \n",
        "  else :\n",
        "    \n",
        "    train_loss.append(net_loss)\n",
        "    net_loss = 0\n",
        "    \n",
        "    with torch.no_grad():\n",
        "      \n",
        "      model.eval()\n",
        "      \n",
        "      for images,labels in testloader:\n",
        "        \n",
        "        predict = model.forward(images)\n",
        "        \n",
        "        ps = torch.exp(predict)\n",
        "        \n",
        "        losses = criterion(predict,labels)\n",
        "        \n",
        "        net_loss += losses\n",
        "        \n",
        "        top_p,top_class = ps.topk(1)\n",
        "        \n",
        "        equal = top_class == labels.view(*top_class.shape)\n",
        "        \n",
        "        accuracy = torch.mean(equal.type(torch.FloatTensor))\n",
        "      \n",
        "      model.train()\n",
        "      \n",
        "      test_loss.append(net_loss)\n",
        "      \n",
        "      print(\"loss in training : {0}, loss in testing : {1}, accuracy : {2}\".format(train_loss[e]/len(trainloader),test_loss[e]/len(testloader),accuracy*100))      "
      ],
      "execution_count": 0,
      "outputs": [
        {
          "output_type": "stream",
          "text": [
            "loss in training : 0.794298961822158, loss in testing : 0.48987507820129395, accuracy : 81.25\n",
            "loss in training : 0.5185054374624417, loss in testing : 0.4386778771877289, accuracy : 68.75\n",
            "loss in training : 0.46563263056374815, loss in testing : 0.4176798164844513, accuracy : 81.25\n",
            "loss in training : 0.4363840599812424, loss in testing : 0.3947324752807617, accuracy : 87.5\n",
            "loss in training : 0.41627330939843454, loss in testing : 0.38520699739456177, accuracy : 75.0\n",
            "loss in training : 0.398792306155856, loss in testing : 0.37243789434432983, accuracy : 93.75\n",
            "loss in training : 0.3876652049738715, loss in testing : 0.36000606417655945, accuracy : 93.75\n",
            "loss in training : 0.3741697724948306, loss in testing : 0.3553045690059662, accuracy : 87.5\n",
            "loss in training : 0.36782729401707903, loss in testing : 0.3560374677181244, accuracy : 75.0\n",
            "loss in training : 0.35808210259180334, loss in testing : 0.349104106426239, accuracy : 68.75\n",
            "loss in training : 0.35138714237253804, loss in testing : 0.34699487686157227, accuracy : 93.75\n",
            "loss in training : 0.3436722189410409, loss in testing : 0.34445735812187195, accuracy : 87.5\n",
            "loss in training : 0.33771227675873333, loss in testing : 0.3417208194732666, accuracy : 100.0\n",
            "loss in training : 0.3320253504745996, loss in testing : 0.3355250060558319, accuracy : 81.25\n",
            "loss in training : 0.3300615425731963, loss in testing : 0.3308815360069275, accuracy : 87.5\n",
            "loss in training : 0.31674544682412514, loss in testing : 0.32729628682136536, accuracy : 100.0\n",
            "loss in training : 0.31477903926582224, loss in testing : 0.32539597153663635, accuracy : 87.5\n",
            "loss in training : 0.31106593000736316, loss in testing : 0.32599592208862305, accuracy : 93.75\n",
            "loss in training : 0.3113807567448885, loss in testing : 0.3289669454097748, accuracy : 81.25\n",
            "loss in training : 0.3035008185056608, loss in testing : 0.32142141461372375, accuracy : 93.75\n",
            "loss in training : 0.29983246926146784, loss in testing : 0.3236435055732727, accuracy : 87.5\n",
            "loss in training : 0.2956852048857888, loss in testing : 0.32556647062301636, accuracy : 100.0\n",
            "loss in training : 0.2963988012167564, loss in testing : 0.3225329518318176, accuracy : 87.5\n",
            "loss in training : 0.29208066069812916, loss in testing : 0.32800740003585815, accuracy : 87.5\n",
            "loss in training : 0.2883054039069711, loss in testing : 0.317986398935318, accuracy : 93.75\n",
            "loss in training : 0.28563664635933284, loss in testing : 0.31845083832740784, accuracy : 93.75\n",
            "loss in training : 0.28190567319803655, loss in testing : 0.3167175352573395, accuracy : 93.75\n",
            "loss in training : 0.27734248448949633, loss in testing : 0.3173280358314514, accuracy : 81.25\n",
            "loss in training : 0.276293820981532, loss in testing : 0.3140483498573303, accuracy : 93.75\n",
            "loss in training : 0.2726383158631289, loss in testing : 0.3139397203922272, accuracy : 81.25\n",
            "loss in training : 0.27257691037013076, loss in testing : 0.3150864839553833, accuracy : 87.5\n",
            "loss in training : 0.27175201335028293, loss in testing : 0.31342634558677673, accuracy : 75.0\n",
            "loss in training : 0.2680497782221481, loss in testing : 0.3153412938117981, accuracy : 75.0\n",
            "loss in training : 0.2635398416964611, loss in testing : 0.30683764815330505, accuracy : 100.0\n",
            "loss in training : 0.2659153501743447, loss in testing : 0.3122902512550354, accuracy : 93.75\n",
            "loss in training : 0.26241954661873995, loss in testing : 0.3038347065448761, accuracy : 87.5\n",
            "loss in training : 0.255164098955675, loss in testing : 0.3100889027118683, accuracy : 93.75\n",
            "loss in training : 0.2559458159847554, loss in testing : 0.3131551742553711, accuracy : 100.0\n",
            "loss in training : 0.25544478241473373, loss in testing : 0.31911638379096985, accuracy : 93.75\n",
            "loss in training : 0.2536920180865951, loss in testing : 0.3165731132030487, accuracy : 100.0\n",
            "loss in training : 0.25064489578228516, loss in testing : 0.30531924962997437, accuracy : 93.75\n",
            "loss in training : 0.25119772517700184, loss in testing : 0.3092446029186249, accuracy : 100.0\n",
            "loss in training : 0.24617461629037155, loss in testing : 0.3130679726600647, accuracy : 87.5\n",
            "loss in training : 0.24365007933745506, loss in testing : 0.31703269481658936, accuracy : 75.0\n",
            "loss in training : 0.24358238478792882, loss in testing : 0.3100244700908661, accuracy : 93.75\n",
            "loss in training : 0.24244883794710834, loss in testing : 0.30786076188087463, accuracy : 93.75\n",
            "loss in training : 0.23698188122242753, loss in testing : 0.3110697567462921, accuracy : 93.75\n",
            "loss in training : 0.2350856054073839, loss in testing : 0.3192906081676483, accuracy : 81.25\n",
            "loss in training : 0.23604573031017648, loss in testing : 0.3051897883415222, accuracy : 93.75\n",
            "loss in training : 0.23363556111179817, loss in testing : 0.3078766465187073, accuracy : 75.0\n"
          ],
          "name": "stdout"
        }
      ]
    },
    {
      "metadata": {
        "id": "DqXBzIVPSlPw",
        "colab_type": "text"
      },
      "cell_type": "markdown",
      "source": [
        "## Inference\n",
        "\n",
        "Now that the model is trained, we can use it for inference. We've done this before, but now we need to remember to set the model in inference mode with `model.eval()`. You'll also want to turn off autograd with the `torch.no_grad()` context."
      ]
    },
    {
      "metadata": {
        "id": "9R4PXWgSSlQA",
        "colab_type": "code",
        "colab": {
          "base_uri": "https://localhost:8080/",
          "height": 395
        },
        "outputId": "e6544f41-2cf9-4211-af3a-f4b0686bb196"
      },
      "cell_type": "code",
      "source": [
        "# Import helper module (should be in the repo)\n",
        "import helper\n",
        "\n",
        "# Test out your network!\n",
        "\n",
        "model.eval()\n",
        "\n",
        "dataiter = iter(testloader)\n",
        "images, labels = dataiter.next()\n",
        "img = images[0]\n",
        "# Convert 2D image to 1D vector\n",
        "img = img.view(1, 784)\n",
        "\n",
        "# Calculate the class probabilities (softmax) for img\n",
        "with torch.no_grad():\n",
        "    output = model.forward(img)\n",
        "\n",
        "ps = torch.exp(output)\n",
        "\n",
        "# Plot the image and probabilities\n",
        "helper.view_classify(img.view(1, 28, 28), ps, version='Fashion')"
      ],
      "execution_count": 36,
      "outputs": [
        {
          "output_type": "error",
          "ename": "ModuleNotFoundError",
          "evalue": "ignored",
          "traceback": [
            "\u001b[0;31m---------------------------------------------------------------------------\u001b[0m",
            "\u001b[0;31mModuleNotFoundError\u001b[0m                       Traceback (most recent call last)",
            "\u001b[0;32m<ipython-input-36-596150a47b43>\u001b[0m in \u001b[0;36m<module>\u001b[0;34m()\u001b[0m\n\u001b[0;32m----> 1\u001b[0;31m \u001b[0;32mimport\u001b[0m \u001b[0mhelper\u001b[0m\u001b[0;34m\u001b[0m\u001b[0m\n\u001b[0m\u001b[1;32m      2\u001b[0m \u001b[0;34m\u001b[0m\u001b[0m\n\u001b[1;32m      3\u001b[0m \u001b[0;31m# Test out your network!\u001b[0m\u001b[0;34m\u001b[0m\u001b[0;34m\u001b[0m\u001b[0m\n\u001b[1;32m      4\u001b[0m \u001b[0;34m\u001b[0m\u001b[0m\n\u001b[1;32m      5\u001b[0m \u001b[0mmodel\u001b[0m\u001b[0;34m.\u001b[0m\u001b[0meval\u001b[0m\u001b[0;34m(\u001b[0m\u001b[0;34m)\u001b[0m\u001b[0;34m\u001b[0m\u001b[0m\n",
            "\u001b[0;31mModuleNotFoundError\u001b[0m: No module named 'helper'",
            "",
            "\u001b[0;31m---------------------------------------------------------------------------\u001b[0;32m\nNOTE: If your import is failing due to a missing package, you can\nmanually install dependencies using either !pip or !apt.\n\nTo view examples of installing some common dependencies, click the\n\"Open Examples\" button below.\n\u001b[0;31m---------------------------------------------------------------------------\u001b[0m\n"
          ]
        }
      ]
    },
    {
      "metadata": {
        "id": "hpHiZwnESlQp",
        "colab_type": "text"
      },
      "cell_type": "markdown",
      "source": [
        "## Next Up!\n",
        "\n",
        "In the next part, I'll show you how to save your trained models. In general, you won't want to train a model everytime you need it. Instead, you'll train once, save it, then load the model when you want to train more or use if for inference."
      ]
    }
  ]
}